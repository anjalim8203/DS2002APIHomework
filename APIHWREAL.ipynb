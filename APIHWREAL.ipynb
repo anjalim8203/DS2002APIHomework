{
  "nbformat": 4,
  "nbformat_minor": 0,
  "metadata": {
    "colab": {
      "provenance": []
    },
    "kernelspec": {
      "name": "python3",
      "display_name": "Python 3"
    },
    "language_info": {
      "name": "python"
    }
  },
  "cells": [
    {
      "cell_type": "code",
      "execution_count": 1,
      "metadata": {
        "id": "PjlXVgQ8O8Nf"
      },
      "outputs": [],
      "source": [
        "import requests\n",
        "import pandas as pd\n",
        "import json\n",
        "import matplotlib.pyplot as plt"
      ]
    },
    {
      "cell_type": "code",
      "source": [
        "def fetch_stock_data(ticker, api_key):\n",
        "    url = f'https://yfapi.net/v8/finance/chart/{ticker}'\n",
        "    headers = {'X-API-KEY': api_key }\n",
        "\n",
        "    try:\n",
        "        response = requests.get(url, headers=headers)\n",
        "        response.raise_for_status()  # raises an error when not 200\n",
        "        # parse the json\n",
        "        data = response.json()\n",
        "        if data['chart']['result'] == None:\n",
        "          print(\"Error trying to read stock\")\n",
        "          return None\n",
        "        print(\"Stock data fetched successfully!\")\n",
        "        return data\n",
        "\n",
        "    except requests.exceptions.HTTPError as http_err:\n",
        "        print(f\"HTTP error occurred: {http_err}\")\n",
        "    except requests.exceptions.RequestException as err:\n",
        "        print(f\"Error occurred: {err}\")\n",
        "    except KeyError:\n",
        "        print(\"Data format has changed or stock data unavailable.\")\n",
        "    return None\n"
      ],
      "metadata": {
        "id": "LzcH_-0yVmq1"
      },
      "execution_count": 50,
      "outputs": []
    },
    {
      "cell_type": "code",
      "source": [
        "# Get ticker symbol and API key from the user\n",
        "ticker = input('Enter stock ticker symbol: ').upper()\n",
        "api_key = \"\"\n",
        "\n",
        "# Display ticker symbol\n",
        "print('The ticker symbol is: ' + ticker)"
      ],
      "metadata": {
        "colab": {
          "base_uri": "https://localhost:8080/"
        },
        "id": "kJrIoELjVpqe",
        "outputId": "e88f81a0-489c-48b1-8179-b64b7978350b"
      },
      "execution_count": 55,
      "outputs": [
        {
          "output_type": "stream",
          "name": "stdout",
          "text": [
            "Enter stock ticker symbol: AAPL\n",
            "The ticker symbol is: AAPL\n"
          ]
        }
      ]
    },
    {
      "cell_type": "code",
      "source": [
        "\n",
        "data = fetch_stock_data(ticker, api_key)\n",
        "\n",
        "# display stock info\n",
        "if data:\n",
        "    try:\n",
        "        stock_info = {\n",
        "            'Ticker Name': data['chart']['result'][0][\"meta\"][\"symbol\"],\n",
        "            'Full Name of Stock': data['chart']['result'][0][\"meta\"][\"longName\"],\n",
        "            'Current Market Price': data['chart']['result'][0][\"meta\"][\"regularMarketPrice\"],\n",
        "            '52 Week High': data['chart']['result'][0][\"meta\"][\"fiftyTwoWeekHigh\"],\n",
        "            '52 Week Low': data['chart']['result'][0][\"meta\"][\"fiftyTwoWeekLow\"]\n",
        "        }\n",
        "\n",
        "        #  stock information\n",
        "        print(\"\\nStock Information:\")\n",
        "        for key, value in stock_info.items():\n",
        "            print(f\"{key}: {value}\")\n",
        "    except KeyError:\n",
        "        print(\"Failed to extract stock information.\")\n"
      ],
      "metadata": {
        "colab": {
          "base_uri": "https://localhost:8080/"
        },
        "id": "34o1MRrHVypA",
        "outputId": "e01a0a42-80ba-4f59-eb0c-9499585fc920"
      },
      "execution_count": 62,
      "outputs": [
        {
          "output_type": "stream",
          "name": "stdout",
          "text": [
            "Stock data fetched successfully!\n",
            "\n",
            "Stock Information:\n",
            "Ticker Name: AAPL\n",
            "Full Name of Stock: Apple Inc.\n",
            "Current Market Price: 227.725\n",
            "52 Week High: 229.52\n",
            "52 Week Low: 227.3\n"
          ]
        }
      ]
    },
    {
      "cell_type": "code",
      "source": [
        "def fetch_trending_stocks(api_key):\n",
        "    trending_url = 'https://yfapi.net/v1/finance/trending/US'\n",
        "    headers = {'X-API-KEY': api_key}\n",
        "\n",
        "    try:\n",
        "        trending_response = requests.get(trending_url, headers=headers)\n",
        "        trending_response.raise_for_status()\n",
        "        trending_data = trending_response.json()\n",
        "        # if trending_data['chart']['result'] == None:\n",
        "        #   print(\"Error trying to read stock\")\n",
        "        #   return None\n",
        "        print(\"Trending stocks data fetched successfully!\")\n",
        "        return trending_data\n",
        "\n",
        "    except requests.exceptions.HTTPError as http_err:\n",
        "        print(f\"HTTP error occurred: {http_err}\")\n",
        "    except requests.exceptions.RequestException as err:\n",
        "        print(f\"Error occurred: {err}\")\n",
        "    except Exception as e:\n",
        "        print(f\"An unexpected error occurred: {e}\")\n",
        "    return None\n"
      ],
      "metadata": {
        "id": "vonVDRHzV0_z"
      },
      "execution_count": 59,
      "outputs": []
    },
    {
      "cell_type": "code",
      "source": [
        "trending_data = fetch_trending_stocks(api_key)\n",
        "\n",
        "if trending_data and 'finance' in trending_data and 'result' in trending_data['finance']:\n",
        "    trending_stocks = trending_data['finance']['result'][0]['quotes'][:5]  # Top 5 trending stocks\n",
        "    print(\"\\nTrending Stocks:\")\n",
        "    trending_stocks_info = []\n",
        "    for stock in trending_stocks:\n",
        "        trending_info = {'Ticker Name': stock['symbol']}\n",
        "        trending_stocks_info.append(trending_info)\n",
        "        print(f\"{stock['symbol']}\")\n",
        "else:\n",
        "    print(\"No trending stocks found or the response format is not as expected.\")\n"
      ],
      "metadata": {
        "colab": {
          "base_uri": "https://localhost:8080/"
        },
        "id": "WZDeYIxwV3Na",
        "outputId": "1e220403-f5cb-4242-f420-21757c0dcb54"
      },
      "execution_count": 60,
      "outputs": [
        {
          "output_type": "stream",
          "name": "stdout",
          "text": [
            "Trending stocks data fetched successfully!\n",
            "\n",
            "Trending Stocks:\n",
            "NQ=F\n",
            "ES=F\n",
            "YM=F\n",
            "AMSC\n",
            "GC=F\n"
          ]
        }
      ]
    },
    {
      "cell_type": "code",
      "source": [
        "# Combine stock information and trending stocks into a DataFrame\n",
        "if data and trending_stocks_info:\n",
        "    combined_data = trending_stocks_info + [stock_info]  # Add stock info to trending stocks\n",
        "    combined_df = pd.DataFrame(combined_data)\n",
        "\n",
        "    # Save to CSV\n",
        "    combined_df.to_csv(f'{ticker}_stock_trending_info.csv', index=False)\n",
        "    print(f\"\\nData has been saved to {ticker}_stock_trending_info.csv\")\n",
        "else:\n",
        "    print(\"No data to save.\")\n"
      ],
      "metadata": {
        "colab": {
          "base_uri": "https://localhost:8080/"
        },
        "id": "ek2TnRmfV5Qr",
        "outputId": "b76611b5-c33d-4e17-d14c-f50559dfb908"
      },
      "execution_count": 61,
      "outputs": [
        {
          "output_type": "stream",
          "name": "stdout",
          "text": [
            "\n",
            "Data has been saved to AAPL_stock_trending_info.csv\n"
          ]
        }
      ]
    }
  ]
}